{
 "cells": [
  {
   "cell_type": "markdown",
   "metadata": {},
   "source": [
    "### Imports "
   ]
  },
  {
   "cell_type": "code",
   "execution_count": 10,
   "metadata": {},
   "outputs": [],
   "source": [
    "import pandas as pd\n",
    "import matplotlib.pyplot as plt\n",
    "import seaborn as sns\n",
    "from sklearn.preprocessing import StandardScaler"
   ]
  },
  {
   "cell_type": "markdown",
   "metadata": {},
   "source": [
    "##### 1. Chargement des données"
   ]
  },
  {
   "cell_type": "code",
   "execution_count": 36,
   "metadata": {},
   "outputs": [],
   "source": [
    "df = pd.read_csv('./Data/houses_Madrid.csv')"
   ]
  },
  {
   "cell_type": "markdown",
   "metadata": {},
   "source": [
    "##### 2. Aperçu des premières lignes du dataset ainsi que des informations générales le concernant."
   ]
  },
  {
   "cell_type": "code",
   "execution_count": null,
   "metadata": {},
   "outputs": [],
   "source": [
    "df.head()"
   ]
  },
  {
   "cell_type": "code",
   "execution_count": null,
   "metadata": {},
   "outputs": [],
   "source": [
    "df.info()"
   ]
  },
  {
   "cell_type": "code",
   "execution_count": null,
   "metadata": {},
   "outputs": [],
   "source": [
    "df.describe()"
   ]
  },
  {
   "cell_type": "markdown",
   "metadata": {},
   "source": [
    "##### 3. Gestion des valeurs manquantes."
   ]
  },
  {
   "cell_type": "markdown",
   "metadata": {},
   "source": [
    "La gestion des valeurs manquantes est importante dans la préparation des données.  \n",
    "Elles peuvent être gérée par imputation, qui consiste a remplacer les valeurs manquantes ou pas suppression. Ce choix va se faire en fonction de la quantité de valeurs manquantes ainsi que de l'importance de la colonne. "
   ]
  },
  {
   "cell_type": "markdown",
   "metadata": {},
   "source": [
    "Dans un premier temps, on calcule les pourcentages de valeurs manquantes par colonne."
   ]
  },
  {
   "cell_type": "code",
   "execution_count": 37,
   "metadata": {},
   "outputs": [
    {
     "name": "stdout",
     "output_type": "stream",
     "text": [
      "sq_mt_built                       0.579524\n",
      "sq_mt_useful                     62.156195\n",
      "n_bathrooms                       0.073590\n",
      "n_floors                         93.390672\n",
      "sq_mt_allotment                  93.413669\n",
      "latitude                        100.000000\n",
      "longitude                       100.000000\n",
      "raw_address                      25.135682\n",
      "street_name                      27.159415\n",
      "street_number                    71.023825\n",
      "portal                          100.000000\n",
      "floor                            11.990617\n",
      "is_floor_under                    5.381290\n",
      "door                            100.000000\n",
      "rent_price_by_area              100.000000\n",
      "house_type_id                     1.798363\n",
      "is_new_development                4.562598\n",
      "built_year                       54.006071\n",
      "has_central_heating              37.411462\n",
      "has_individual_heating           37.411462\n",
      "are_pets_allowed                100.000000\n",
      "has_ac                           48.436206\n",
      "has_fitted_wardrobes             38.372735\n",
      "has_lift                         10.974151\n",
      "is_exterior                      13.995953\n",
      "has_garden                       92.843345\n",
      "has_pool                         76.216539\n",
      "has_terrace                      56.084997\n",
      "has_balcony                      84.725416\n",
      "has_storage_room                 64.593874\n",
      "is_furnished                    100.000000\n",
      "is_kitchen_equipped             100.000000\n",
      "is_accessible                    81.262073\n",
      "has_green_zones                  81.340263\n",
      "has_private_parking             100.000000\n",
      "has_public_parking              100.000000\n",
      "is_parking_included_in_price     64.497286\n",
      "parking_price                    64.497286\n",
      "is_orientation_north             47.760096\n",
      "is_orientation_west              47.760096\n",
      "is_orientation_south             47.760096\n",
      "is_orientation_east              47.760096\n",
      "dtype: float64\n"
     ]
    }
   ],
   "source": [
    "missing_values = df.isnull().mean() * 100\n",
    "print(missing_values[missing_values > 0])"
   ]
  },
  {
   "cell_type": "markdown",
   "metadata": {},
   "source": [
    "Puis, on impute les valeurs manquantes dans les colonnes importantes."
   ]
  },
  {
   "cell_type": "code",
   "execution_count": null,
   "metadata": {},
   "outputs": [],
   "source": [
    "df_cleaned = df.copy()\n",
    "\n",
    "df_cleaned['sq_mt_built'].fillna(df_cleaned['sq_mt_built'].median(), inplace=True)\n",
    "df_cleaned['sq_mt_useful'].fillna(df_cleaned['sq_mt_built'] * 0.8, inplace=True)\n",
    "df_cleaned['built_year'].fillna(df_cleaned['built_year'].median(), inplace=True)\n",
    "df_cleaned['n_bathrooms'].fillna(df_cleaned['n_bathrooms'].mode()[0], inplace=True)\n",
    "df_cleaned[['has_central_heating', 'has_individual_heating']] = df_cleaned[['has_central_heating', 'has_individual_heating']].fillna(0)\n",
    "df_cleaned['floor'].fillna(1, inplace=True)\n",
    "\n",
    "equipment_columns = ['has_pool', 'has_terrace', 'is_furnished', 'has_garden', 'has_storage_room', 'has_balcony', 'has_lift', 'has_ac']\n",
    "\n",
    "df_cleaned[equipment_columns] = df_cleaned[equipment_columns].fillna(0)\n",
    "\n",
    "\n"
   ]
  },
  {
   "cell_type": "markdown",
   "metadata": {},
   "source": [
    "Pour terminer, on supprime les colonnes qui ont plus de 40% de valeurs manquantes et/ou qui ne sont pas importantes."
   ]
  },
  {
   "cell_type": "code",
   "execution_count": 39,
   "metadata": {},
   "outputs": [
    {
     "name": "stdout",
     "output_type": "stream",
     "text": [
      "Unnamed: 0                    0\n",
      "id                            0\n",
      "title                         0\n",
      "subtitle                      0\n",
      "sq_mt_built                   0\n",
      "n_rooms                       0\n",
      "n_bathrooms                   0\n",
      "is_exact_address_hidden       0\n",
      "floor                         0\n",
      "neighborhood_id               0\n",
      "operation                     0\n",
      "rent_price                    0\n",
      "is_rent_price_known           0\n",
      "buy_price                     0\n",
      "buy_price_by_area             0\n",
      "is_buy_price_known            0\n",
      "house_type_id               391\n",
      "is_renewal_needed             0\n",
      "is_new_development          992\n",
      "has_central_heating           0\n",
      "has_individual_heating        0\n",
      "has_fitted_wardrobes       8343\n",
      "has_lift                      0\n",
      "is_exterior                3043\n",
      "energy_certificate            0\n",
      "has_parking                   0\n",
      "dtype: int64\n"
     ]
    }
   ],
   "source": [
    "columns_to_drop = missing_values[missing_values > 40].index\n",
    "columns_to_drop_additional = ['raw_address', 'street_name', 'is_floor_under']\n",
    "\n",
    "df_cleaned = df_cleaned.drop(columns=columns_to_drop)\n",
    "df_cleaned = df_cleaned.drop(columns=columns_to_drop_additional)\n",
    "\n",
    "print(df_cleaned.isnull().sum())"
   ]
  },
  {
   "cell_type": "markdown",
   "metadata": {},
   "source": [
    "##### 4. Gestion des doublons"
   ]
  },
  {
   "cell_type": "code",
   "execution_count": 40,
   "metadata": {},
   "outputs": [],
   "source": [
    "duplicates = df_cleaned.duplicated(subset=['id'])\n",
    "df_cleaned = df_cleaned[~duplicates]"
   ]
  },
  {
   "cell_type": "markdown",
   "metadata": {},
   "source": [
    "##### 5. Traitement des valeurs aberrantes"
   ]
  },
  {
   "cell_type": "markdown",
   "metadata": {},
   "source": [
    "On visualise d'abord les outliers sur les colonnes critiques."
   ]
  },
  {
   "cell_type": "code",
   "execution_count": 41,
   "metadata": {},
   "outputs": [
    {
     "data": {
      "image/png": "[encoded data removed]",
      "text/plain": [
       "<Figure size 1000x600 with 1 Axes>"
      ]
     },
     "metadata": {},
     "output_type": "display_data"
    }
   ],
   "source": [
    "plt.figure(figsize=(10, 6))\n",
    "sns.boxplot(x=df_cleaned['buy_price'])\n",
    "plt.show()"
   ]
  },
  {
   "cell_type": "markdown",
   "metadata": {},
   "source": [
    "On supprime les valeurs aberrantes dans les prix d'achat."
   ]
  },
  {
   "cell_type": "code",
   "execution_count": 42,
   "metadata": {},
   "outputs": [],
   "source": [
    "Q1 = df_cleaned['buy_price'].quantile(0.25)\n",
    "Q3 = df_cleaned['buy_price'].quantile(0.75)\n",
    "IQR = Q3 - Q1"
   ]
  },
  {
   "cell_type": "markdown",
   "metadata": {},
   "source": [
    "On garde les données dans l'intervalle [Q1 - 1.5*IQR, Q3 + 1.5*IQR]"
   ]
  },
  {
   "cell_type": "code",
   "execution_count": 43,
   "metadata": {},
   "outputs": [],
   "source": [
    "df_cleaned = df_cleaned[(df_cleaned['buy_price'] >= Q1 - 1.5 * IQR) & (df_cleaned['buy_price'] <= Q3 + 1.5 * IQR)]"
   ]
  },
  {
   "cell_type": "markdown",
   "metadata": {},
   "source": [
    "##### 6. Normalisation / Standardisation"
   ]
  },
  {
   "cell_type": "markdown",
   "metadata": {},
   "source": [
    "Certaines colonnes peuvent avoir des échelles différentes, ce qui peut poser problème pour certains algorithmes de machine learning. Une normalisation ou une standardisation peut être nécessaire."
   ]
  },
  {
   "cell_type": "code",
   "execution_count": 44,
   "metadata": {},
   "outputs": [],
   "source": [
    "scaler = StandardScaler()\n",
    "df_cleaned[['sq_mt_built', 'buy_price']] = scaler.fit_transform(df_cleaned[['sq_mt_built', 'buy_price']])"
   ]
  },
  {
   "cell_type": "code",
   "execution_count": 45,
   "metadata": {},
   "outputs": [
    {
     "name": "stdout",
     "output_type": "stream",
     "text": [
      "Unnamed: 0                    0\n",
      "id                            0\n",
      "title                         0\n",
      "subtitle                      0\n",
      "sq_mt_built                   0\n",
      "n_rooms                       0\n",
      "n_bathrooms                   0\n",
      "is_exact_address_hidden       0\n",
      "floor                         0\n",
      "neighborhood_id               0\n",
      "operation                     0\n",
      "rent_price                    0\n",
      "is_rent_price_known           0\n",
      "buy_price                     0\n",
      "buy_price_by_area             0\n",
      "is_buy_price_known            0\n",
      "house_type_id               389\n",
      "is_renewal_needed             0\n",
      "is_new_development          941\n",
      "has_central_heating           0\n",
      "has_individual_heating        0\n",
      "has_fitted_wardrobes       7741\n",
      "has_lift                      0\n",
      "is_exterior                2174\n",
      "energy_certificate            0\n",
      "has_parking                   0\n",
      "dtype: int64\n"
     ]
    }
   ],
   "source": [
    "print(df_cleaned.isnull().sum())"
   ]
  },
  {
   "cell_type": "markdown",
   "metadata": {},
   "source": [
    "##### 7. Sauvegarde du dataset nettoyé et préparé."
   ]
  },
  {
   "cell_type": "code",
   "execution_count": 31,
   "metadata": {},
   "outputs": [],
   "source": [
    "df_cleaned.to_csv('./Data/houses_Madrid_cleaned.csv', index=False)"
   ]
  }
 ],
 "metadata": {
  "kernelspec": {
   "display_name": "env",
   "language": "python",
   "name": "python3"
  },
  "language_info": {
   "codemirror_mode": {
    "name": "ipython",
    "version": 3
   },
   "file_extension": ".py",
   "mimetype": "text/x-python",
   "name": "python",
   "nbconvert_exporter": "python",
   "pygments_lexer": "ipython3",
   "version": "3.10.6"
  }
 },
 "nbformat": 4,
 "nbformat_minor": 2
}
