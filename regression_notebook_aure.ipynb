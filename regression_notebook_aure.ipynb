{
 "cells": [
  {
   "cell_type": "markdown",
   "metadata": {},
   "source": [
    "# Utilisation de 3 algorithmes pour une prédiction de prix."
   ]
  },
  {
   "cell_type": "markdown",
   "metadata": {},
   "source": [
    "Dans ce Notebook, nous allons dans un premier temps préparer les données afin de n'avoir que les colonnes dont nous aurons besoin. Puis, dans un deuxième temps, nous ferons une recherche des meilleures features a utiliser pour nos algorithmes. La troisième partie de ce Notebook sera dédiée à l'application des trois algorithmes que nous avons choisi, à savoir:  \n",
    "- Régression Linéaire  \n",
    "- SG Boost  \n",
    "- Random Forest  \n",
    "\n",
    "Nous évaluerons et testerons les performances de nos modèles puis à l'aide d'un GridSearch nous affinerons notre choix sur un seul algorithme et les meilleurs paramètres afin de pouvoir déployer celui-ci sur une application Flask."
   ]
  },
  {
   "cell_type": "markdown",
   "metadata": {},
   "source": [
    "### Imports"
   ]
  },
  {
   "cell_type": "code",
   "execution_count": 24,
   "metadata": {},
   "outputs": [],
   "source": [
    "import pandas as pd\n",
    "import numpy as np\n",
    "import seaborn as sns\n",
    "import matplotlib.pyplot as plt\n",
    "from boruta import BorutaPy\n",
    "import pickle\n",
    "\n",
    "from sklearn.feature_selection import SequentialFeatureSelector\n",
    "from sklearn.ensemble import RandomForestClassifier, RandomForestRegressor\n",
    "from sklearn.impute import SimpleImputer\n",
    "from sklearn.linear_model import LinearRegression\n",
    "from sklearn.model_selection import train_test_split\n",
    "from sklearn.metrics import mean_squared_error, r2_score, mean_absolute_error, explained_variance_score, max_error\n"
   ]
  },
  {
   "cell_type": "markdown",
   "metadata": {},
   "source": [
    "### Chargement du Dataset"
   ]
  },
  {
   "cell_type": "code",
   "execution_count": 2,
   "metadata": {},
   "outputs": [],
   "source": [
    "df = pd.read_csv('./Data/houses_Madrid_cleaned.csv')"
   ]
  },
  {
   "cell_type": "markdown",
   "metadata": {},
   "source": [
    "### Début de la préparation des données"
   ]
  },
  {
   "cell_type": "markdown",
   "metadata": {},
   "source": [
    "On supprime les colonnes qui ne nou servirons pas"
   ]
  },
  {
   "cell_type": "code",
   "execution_count": 3,
   "metadata": {},
   "outputs": [],
   "source": [
    "cols_to_drop = [\"id\", \"title\", \"subtitle\", \"is_exact_address_hidden\", \"floor\", \"neighborhood_id\", \"is_rent_price_known\", \"is_buy_price_known\", \"has_fitted_wardrobes\", \"house_type_id\"]\n",
    "df_cleaned = df.drop(columns=cols_to_drop)"
   ]
  },
  {
   "cell_type": "code",
   "execution_count": 4,
   "metadata": {},
   "outputs": [
    {
     "data": {
      "text/html": [
       "<div>\n",
       "<style scoped>\n",
       "    .dataframe tbody tr th:only-of-type {\n",
       "        vertical-align: middle;\n",
       "    }\n",
       "\n",
       "    .dataframe tbody tr th {\n",
       "        vertical-align: top;\n",
       "    }\n",
       "\n",
       "    .dataframe thead th {\n",
       "        text-align: right;\n",
       "    }\n",
       "</style>\n",
       "<table border=\"1\" class=\"dataframe\">\n",
       "  <thead>\n",
       "    <tr style=\"text-align: right;\">\n",
       "      <th></th>\n",
       "      <th>Unnamed: 0</th>\n",
       "      <th>sq_mt_built</th>\n",
       "      <th>n_rooms</th>\n",
       "      <th>n_bathrooms</th>\n",
       "      <th>operation</th>\n",
       "      <th>rent_price</th>\n",
       "      <th>buy_price</th>\n",
       "      <th>buy_price_by_area</th>\n",
       "      <th>is_renewal_needed</th>\n",
       "      <th>is_new_development</th>\n",
       "      <th>has_central_heating</th>\n",
       "      <th>has_individual_heating</th>\n",
       "      <th>has_lift</th>\n",
       "      <th>is_exterior</th>\n",
       "      <th>energy_certificate</th>\n",
       "      <th>has_parking</th>\n",
       "      <th>PricePerSqM</th>\n",
       "    </tr>\n",
       "  </thead>\n",
       "  <tbody>\n",
       "    <tr>\n",
       "      <th>0</th>\n",
       "      <td>0</td>\n",
       "      <td>64.0</td>\n",
       "      <td>2</td>\n",
       "      <td>1.0</td>\n",
       "      <td>sale</td>\n",
       "      <td>471</td>\n",
       "      <td>85000</td>\n",
       "      <td>1328</td>\n",
       "      <td>False</td>\n",
       "      <td>False</td>\n",
       "      <td>0</td>\n",
       "      <td>0</td>\n",
       "      <td>False</td>\n",
       "      <td>True</td>\n",
       "      <td>D</td>\n",
       "      <td>False</td>\n",
       "      <td>1308.89</td>\n",
       "    </tr>\n",
       "    <tr>\n",
       "      <th>1</th>\n",
       "      <td>1</td>\n",
       "      <td>70.0</td>\n",
       "      <td>3</td>\n",
       "      <td>1.0</td>\n",
       "      <td>sale</td>\n",
       "      <td>666</td>\n",
       "      <td>129900</td>\n",
       "      <td>1856</td>\n",
       "      <td>True</td>\n",
       "      <td>False</td>\n",
       "      <td>0</td>\n",
       "      <td>0</td>\n",
       "      <td>True</td>\n",
       "      <td>True</td>\n",
       "      <td>en trámite</td>\n",
       "      <td>False</td>\n",
       "      <td>1796.68</td>\n",
       "    </tr>\n",
       "    <tr>\n",
       "      <th>2</th>\n",
       "      <td>2</td>\n",
       "      <td>94.0</td>\n",
       "      <td>2</td>\n",
       "      <td>2.0</td>\n",
       "      <td>sale</td>\n",
       "      <td>722</td>\n",
       "      <td>144247</td>\n",
       "      <td>1535</td>\n",
       "      <td>False</td>\n",
       "      <td>False</td>\n",
       "      <td>False</td>\n",
       "      <td>True</td>\n",
       "      <td>True</td>\n",
       "      <td>True</td>\n",
       "      <td>no indicado</td>\n",
       "      <td>False</td>\n",
       "      <td>1617.18</td>\n",
       "    </tr>\n",
       "    <tr>\n",
       "      <th>3</th>\n",
       "      <td>3</td>\n",
       "      <td>64.0</td>\n",
       "      <td>2</td>\n",
       "      <td>1.0</td>\n",
       "      <td>sale</td>\n",
       "      <td>583</td>\n",
       "      <td>109900</td>\n",
       "      <td>1717</td>\n",
       "      <td>False</td>\n",
       "      <td>False</td>\n",
       "      <td>0</td>\n",
       "      <td>0</td>\n",
       "      <td>True</td>\n",
       "      <td>True</td>\n",
       "      <td>en trámite</td>\n",
       "      <td>False</td>\n",
       "      <td>1617.18</td>\n",
       "    </tr>\n",
       "    <tr>\n",
       "      <th>4</th>\n",
       "      <td>4</td>\n",
       "      <td>108.0</td>\n",
       "      <td>2</td>\n",
       "      <td>2.0</td>\n",
       "      <td>sale</td>\n",
       "      <td>1094</td>\n",
       "      <td>260000</td>\n",
       "      <td>2407</td>\n",
       "      <td>False</td>\n",
       "      <td>False</td>\n",
       "      <td>0</td>\n",
       "      <td>0</td>\n",
       "      <td>True</td>\n",
       "      <td>True</td>\n",
       "      <td>en trámite</td>\n",
       "      <td>True</td>\n",
       "      <td>1827.79</td>\n",
       "    </tr>\n",
       "  </tbody>\n",
       "</table>\n",
       "</div>"
      ],
      "text/plain": [
       "   Unnamed: 0  sq_mt_built  n_rooms  n_bathrooms operation  rent_price  \\\n",
       "0           0         64.0        2          1.0      sale         471   \n",
       "1           1         70.0        3          1.0      sale         666   \n",
       "2           2         94.0        2          2.0      sale         722   \n",
       "3           3         64.0        2          1.0      sale         583   \n",
       "4           4        108.0        2          2.0      sale        1094   \n",
       "\n",
       "   buy_price  buy_price_by_area  is_renewal_needed is_new_development  \\\n",
       "0      85000               1328              False              False   \n",
       "1     129900               1856               True              False   \n",
       "2     144247               1535              False              False   \n",
       "3     109900               1717              False              False   \n",
       "4     260000               2407              False              False   \n",
       "\n",
       "  has_central_heating has_individual_heating has_lift is_exterior  \\\n",
       "0                   0                      0    False        True   \n",
       "1                   0                      0     True        True   \n",
       "2               False                   True     True        True   \n",
       "3                   0                      0     True        True   \n",
       "4                   0                      0     True        True   \n",
       "\n",
       "  energy_certificate  has_parking  PricePerSqM  \n",
       "0                  D        False      1308.89  \n",
       "1         en trámite        False      1796.68  \n",
       "2        no indicado        False      1617.18  \n",
       "3         en trámite        False      1617.18  \n",
       "4         en trámite         True      1827.79  "
      ]
     },
     "execution_count": 4,
     "metadata": {},
     "output_type": "execute_result"
    }
   ],
   "source": [
    "df_cleaned.head()"
   ]
  },
  {
   "cell_type": "markdown",
   "metadata": {},
   "source": [
    "Recherche des valeurs uniques pour la colonne 'operation'"
   ]
  },
  {
   "cell_type": "code",
   "execution_count": 5,
   "metadata": {},
   "outputs": [
    {
     "name": "stdout",
     "output_type": "stream",
     "text": [
      "['sale']\n"
     ]
    }
   ],
   "source": [
    "unique_value = df_cleaned['operation'].unique()\n",
    "print(unique_value)"
   ]
  },
  {
   "cell_type": "markdown",
   "metadata": {},
   "source": [
    "Remplacement des valeurs par 1"
   ]
  },
  {
   "cell_type": "code",
   "execution_count": 6,
   "metadata": {},
   "outputs": [
    {
     "name": "stdout",
     "output_type": "stream",
     "text": [
      "       Unnamed: 0  sq_mt_built  n_rooms  n_bathrooms  operation  rent_price  \\\n",
      "0               0         64.0        2          1.0          1         471   \n",
      "1               1         70.0        3          1.0          1         666   \n",
      "2               2         94.0        2          2.0          1         722   \n",
      "3               3         64.0        2          1.0          1         583   \n",
      "4               4        108.0        2          2.0          1        1094   \n",
      "...           ...          ...      ...          ...        ...         ...   \n",
      "19780       21737         78.0        2          2.0          1        1323   \n",
      "19781       21738         96.0        2          2.0          1        1496   \n",
      "19782       21739        175.0        4          2.0          1        2081   \n",
      "19783       21740        289.0        4          3.0          1        2115   \n",
      "19784       21741         72.0        2          2.0          1        1494   \n",
      "\n",
      "       buy_price  buy_price_by_area  is_renewal_needed is_new_development  \\\n",
      "0          85000               1328              False              False   \n",
      "1         129900               1856               True              False   \n",
      "2         144247               1535              False              False   \n",
      "3         109900               1717              False              False   \n",
      "4         260000               2407              False              False   \n",
      "...          ...                ...                ...                ...   \n",
      "19780     350000               4487              False              False   \n",
      "19781     425000               4427              False              False   \n",
      "19782     680000               3886              False              False   \n",
      "19783     695000               2405              False              False   \n",
      "19784     424000               5889              False               True   \n",
      "\n",
      "      has_central_heating has_individual_heating has_lift is_exterior  \\\n",
      "0                       0                      0    False        True   \n",
      "1                       0                      0     True        True   \n",
      "2                   False                   True     True        True   \n",
      "3                       0                      0     True        True   \n",
      "4                       0                      0     True        True   \n",
      "...                   ...                    ...      ...         ...   \n",
      "19780               False                   True     True        True   \n",
      "19781               False                   True     True        True   \n",
      "19782               False                   True    False        True   \n",
      "19783                   0                      0        0         NaN   \n",
      "19784                   0                      0     True        True   \n",
      "\n",
      "      energy_certificate  has_parking  PricePerSqM  \n",
      "0                      D        False      1308.89  \n",
      "1             en trámite        False      1796.68  \n",
      "2            no indicado        False      1617.18  \n",
      "3             en trámite        False      1617.18  \n",
      "4             en trámite         True      1827.79  \n",
      "...                  ...          ...          ...  \n",
      "19780         en trámite         True      3100.87  \n",
      "19781         en trámite         True      3417.44  \n",
      "19782                  E         True      3417.44  \n",
      "19783         en trámite         True      3417.44  \n",
      "19784                  A         True      4098.59  \n",
      "\n",
      "[19785 rows x 17 columns]\n"
     ]
    },
    {
     "name": "stderr",
     "output_type": "stream",
     "text": [
      "C:\\Users\\aurel\\AppData\\Local\\Temp\\ipykernel_17704\\4109030472.py:1: FutureWarning: Downcasting behavior in `replace` is deprecated and will be removed in a future version. To retain the old behavior, explicitly call `result.infer_objects(copy=False)`. To opt-in to the future behavior, set `pd.set_option('future.no_silent_downcasting', True)`\n",
      "  df_cleaned['operation'] = df_cleaned['operation'].replace('sale', 1)\n"
     ]
    }
   ],
   "source": [
    "df_cleaned['operation'] = df_cleaned['operation'].replace('sale', 1)\n",
    "print(df_cleaned)"
   ]
  },
  {
   "cell_type": "markdown",
   "metadata": {},
   "source": [
    "Recherche des variables numériques afin de faire une matrice de corrélation"
   ]
  },
  {
   "cell_type": "code",
   "execution_count": 7,
   "metadata": {},
   "outputs": [
    {
     "name": "stdout",
     "output_type": "stream",
     "text": [
      "       Unnamed: 0  sq_mt_built  n_rooms  n_bathrooms  operation  rent_price  \\\n",
      "0               0         64.0        2          1.0          1         471   \n",
      "1               1         70.0        3          1.0          1         666   \n",
      "2               2         94.0        2          2.0          1         722   \n",
      "3               3         64.0        2          1.0          1         583   \n",
      "4               4        108.0        2          2.0          1        1094   \n",
      "...           ...          ...      ...          ...        ...         ...   \n",
      "19780       21737         78.0        2          2.0          1        1323   \n",
      "19781       21738         96.0        2          2.0          1        1496   \n",
      "19782       21739        175.0        4          2.0          1        2081   \n",
      "19783       21740        289.0        4          3.0          1        2115   \n",
      "19784       21741         72.0        2          2.0          1        1494   \n",
      "\n",
      "       buy_price  buy_price_by_area  PricePerSqM  \n",
      "0          85000               1328      1308.89  \n",
      "1         129900               1856      1796.68  \n",
      "2         144247               1535      1617.18  \n",
      "3         109900               1717      1617.18  \n",
      "4         260000               2407      1827.79  \n",
      "...          ...                ...          ...  \n",
      "19780     350000               4487      3100.87  \n",
      "19781     425000               4427      3417.44  \n",
      "19782     680000               3886      3417.44  \n",
      "19783     695000               2405      3417.44  \n",
      "19784     424000               5889      4098.59  \n",
      "\n",
      "[19785 rows x 9 columns]\n"
     ]
    }
   ],
   "source": [
    "df_numeric = df_cleaned.select_dtypes(include=['number'])\n",
    "print(df_numeric)"
   ]
  },
  {
   "cell_type": "markdown",
   "metadata": {},
   "source": [
    "### Début de la recherche des meilleures features"
   ]
  },
  {
   "cell_type": "markdown",
   "metadata": {},
   "source": [
    "Sélection par matrice de corrélation"
   ]
  },
  {
   "cell_type": "code",
   "execution_count": 8,
   "metadata": {},
   "outputs": [
    {
     "data": {
      "image/png": "[encoded data removed]",
      "text/plain": [
       "<Figure size 800x600 with 2 Axes>"
      ]
     },
     "metadata": {},
     "output_type": "display_data"
    }
   ],
   "source": [
    "corr_matrix = df_numeric.corr()\n",
    "\n",
    "plt.figure(figsize=(8, 6))\n",
    "sns.heatmap(corr_matrix, annot=True, cmap='coolwarm', fmt='.2f', vmin=-1, vmax=1)\n",
    "\n",
    "plt.title('Matrice de Corrélation')\n",
    "\n",
    "plt.show()"
   ]
  },
  {
   "cell_type": "markdown",
   "metadata": {},
   "source": [
    "Sélection par Forward Feature Selection"
   ]
  },
  {
   "cell_type": "code",
   "execution_count": 9,
   "metadata": {},
   "outputs": [],
   "source": [
    "X = df_numeric.drop(columns=['buy_price']) \n",
    "y = df_cleaned['buy_price'] "
   ]
  },
  {
   "cell_type": "code",
   "execution_count": 10,
   "metadata": {},
   "outputs": [
    {
     "name": "stdout",
     "output_type": "stream",
     "text": [
      "PricePerSqM    80\n",
      "dtype: int64\n"
     ]
    }
   ],
   "source": [
    "missing_values_X = X.isna().sum()\n",
    "print(missing_values_X[missing_values_X > 0])"
   ]
  },
  {
   "cell_type": "code",
   "execution_count": 11,
   "metadata": {},
   "outputs": [],
   "source": [
    "X_cleaned = X.dropna()\n",
    "y_cleaned = y[X_cleaned.index] "
   ]
  },
  {
   "cell_type": "code",
   "execution_count": 12,
   "metadata": {},
   "outputs": [
    {
     "name": "stdout",
     "output_type": "stream",
     "text": [
      "Index(['sq_mt_built', 'n_rooms', 'rent_price', 'buy_price_by_area'], dtype='object')\n"
     ]
    }
   ],
   "source": [
    "X_train, X_test, y_train, y_test = train_test_split(X_cleaned, y_cleaned, test_size=0.3, random_state=0)\n",
    "\n",
    "model = LinearRegression()\n",
    "\n",
    "sfs = SequentialFeatureSelector(model, n_features_to_select='auto', direction='forward', cv=5)\n",
    "\n",
    "sfs.fit(X_train, y_train)\n",
    "\n",
    "selected_features = X_cleaned.columns[sfs.get_support()]\n",
    "print(selected_features)"
   ]
  },
  {
   "cell_type": "markdown",
   "metadata": {},
   "source": [
    "Sélection Basée sur l'Importance des Caractéristiques (Boruta)"
   ]
  },
  {
   "cell_type": "code",
   "execution_count": 13,
   "metadata": {},
   "outputs": [
    {
     "name": "stdout",
     "output_type": "stream",
     "text": [
      "Index(['Unnamed: 0', 'sq_mt_built', 'n_rooms', 'n_bathrooms', 'rent_price',\n",
      "       'buy_price_by_area', 'PricePerSqM'],\n",
      "      dtype='object')\n"
     ]
    }
   ],
   "source": [
    "rf = RandomForestClassifier(n_jobs=-1, max_depth=5, random_state=0)\n",
    "\n",
    "boruta = BorutaPy(rf, n_estimators='auto', random_state=0)\n",
    "\n",
    "boruta.fit(X_train, y_train)\n",
    "\n",
    "important_features = X.columns[boruta.support_]\n",
    "print(important_features)"
   ]
  },
  {
   "cell_type": "markdown",
   "metadata": {},
   "source": [
    " Sélection par Importance des Caractéristiques (Trees-based)"
   ]
  },
  {
   "cell_type": "code",
   "execution_count": 14,
   "metadata": {},
   "outputs": [
    {
     "name": "stdout",
     "output_type": "stream",
     "text": [
      "sq_mt_built          0.583333\n",
      "rent_price           0.359234\n",
      "buy_price_by_area    0.036047\n",
      "PricePerSqM          0.019769\n",
      "n_rooms              0.000905\n",
      "n_bathrooms          0.000502\n",
      "Unnamed: 0           0.000210\n",
      "operation            0.000000\n",
      "dtype: float64\n"
     ]
    }
   ],
   "source": [
    "rf2 = RandomForestRegressor(n_estimators=100, random_state=0)\n",
    "\n",
    "rf2.fit(X_train, y_train)\n",
    "\n",
    "importance = rf2.feature_importances_\n",
    "feature_importances = pd.Series(importance, index=X.columns).sort_values(ascending=False)\n",
    "print(feature_importances)"
   ]
  },
  {
   "cell_type": "code",
   "execution_count": 15,
   "metadata": {},
   "outputs": [],
   "source": [
    "features = ['sq_mt_built', 'n_rooms', 'buy_price_by_area', 'PricePerSqM']\n",
    "X = df_cleaned[features]\n",
    "y = df_cleaned['buy_price']\n",
    "\n",
    "X_train, X_test, y_train, y_test = train_test_split(X, y, test_size=0.3, random_state=0)"
   ]
  },
  {
   "cell_type": "markdown",
   "metadata": {},
   "source": [
    "### Application des algorithmes"
   ]
  },
  {
   "cell_type": "markdown",
   "metadata": {},
   "source": [
    "#### Régression Linéaire"
   ]
  },
  {
   "cell_type": "markdown",
   "metadata": {},
   "source": [
    "Tout d'abord, on recherche des potentielles valeurs nulles afin de les supprimer. "
   ]
  },
  {
   "cell_type": "code",
   "execution_count": 19,
   "metadata": {},
   "outputs": [
    {
     "name": "stdout",
     "output_type": "stream",
     "text": [
      "Valeurs manquantes dans X_train :\n",
      "Series([], dtype: int64)\n",
      "Valeurs manquantes dans X_test :\n",
      "Series([], dtype: int64)\n",
      "Vérification après traitement :\n",
      "Valeurs manquantes dans X_train :\n",
      "0\n",
      "Valeurs manquantes dans X_test :\n",
      "0\n"
     ]
    }
   ],
   "source": [
    "# Vérifier les valeurs manquantes dans X_train\n",
    "missing_values_train = X_train.isna().sum()\n",
    "print(\"Valeurs manquantes dans X_train :\")\n",
    "print(missing_values_train[missing_values_train > 0])\n",
    "\n",
    "# Vérifier les valeurs manquantes dans X_test\n",
    "missing_values_test = X_test.isna().sum()\n",
    "print(\"Valeurs manquantes dans X_test :\")\n",
    "print(missing_values_test[missing_values_test > 0])\n",
    "\n",
    "# Supprimer les lignes contenant des valeurs manquantes dans X_train et ajuster y_train\n",
    "X_train = X_train.dropna()\n",
    "y_train = y_train[X_train.index]\n",
    "\n",
    "# Supprimer les lignes contenant des valeurs manquantes dans X_test et ajuster y_test\n",
    "X_test = X_test.dropna()\n",
    "y_test = y_test[X_test.index]\n",
    "\n",
    "# Imputer les valeurs manquantes restantes avec la médiane si nécessaire\n",
    "imputer = SimpleImputer(strategy='median')\n",
    "X_train = pd.DataFrame(imputer.fit_transform(X_train), columns=X_train.columns)\n",
    "X_test = pd.DataFrame(imputer.transform(X_test), columns=X_test.columns)\n",
    "\n",
    "# Vérification après traitement\n",
    "print(\"Vérification après traitement :\")\n",
    "print(\"Valeurs manquantes dans X_train :\")\n",
    "print(X_train.isna().sum().sum())\n",
    "print(\"Valeurs manquantes dans X_test :\")\n",
    "print(X_test.isna().sum().sum())"
   ]
  },
  {
   "cell_type": "markdown",
   "metadata": {},
   "source": [
    "On applique l'algorithme de Régression Linéaire et on test & évalue ses performances"
   ]
  },
  {
   "cell_type": "code",
   "execution_count": 23,
   "metadata": {},
   "outputs": [
    {
     "name": "stdout",
     "output_type": "stream",
     "text": [
      "Régression Linéaire :\n",
      "Mean Squared Error (MSE)           : 11759187268.582151\n",
      "Root Mean Squared Error (RMSE)     : 108439.78637281683\n",
      "Mean Absolute Error (MAE)          : 65657.970351011\n",
      "Mean Absolute Percentage Error (MAPE) : 19.10%\n",
      "R² Score                           : 0.9065462777486162\n",
      "Adjusted R² Score                  : 0.9064829622186356\n",
      "Explained Variance Score (EVS)     : 0.9065704200665206\n",
      "Max Error                          : 1237042.8879016964\n"
     ]
    }
   ],
   "source": [
    "# Entraînement du modèle de régression linéaire\n",
    "lr = LinearRegression()\n",
    "lr.fit(X_train, y_train)\n",
    "\n",
    "# Prédiction sur le jeu de test\n",
    "y_pred_lr = lr.predict(X_test)\n",
    "\n",
    "# Calcul des différentes métriques de performance\n",
    "# 1. Mean Squared Error (MSE)\n",
    "mse_lr = mean_squared_error(y_test, y_pred_lr)\n",
    "\n",
    "# 2. R² Score\n",
    "r2_lr = r2_score(y_test, y_pred_lr)\n",
    "\n",
    "# 3. Mean Absolute Error (MAE)\n",
    "mae_lr = mean_absolute_error(y_test, y_pred_lr)\n",
    "\n",
    "# 4. Root Mean Squared Error (RMSE)\n",
    "rmse_lr = np.sqrt(mse_lr)\n",
    "\n",
    "# 5. Mean Absolute Percentage Error (MAPE)\n",
    "mape_lr = np.mean(np.abs((y_test - y_pred_lr) / y_test)) * 100\n",
    "\n",
    "# 6. Explained Variance Score (EVS)\n",
    "evs_lr = explained_variance_score(y_test, y_pred_lr)\n",
    "\n",
    "# 7. Max Error\n",
    "max_err_lr = max_error(y_test, y_pred_lr)\n",
    "\n",
    "# 8. Adjusted R² Score\n",
    "n = len(y_test)  # Nombre d'observations dans le jeu de test\n",
    "p = X_test.shape[1]  # Nombre de variables indépendantes\n",
    "adjusted_r2_lr = 1 - (1 - r2_lr) * (n - 1) / (n - p - 1)\n",
    "\n",
    "# Affichage des résultats\n",
    "print(\"Régression Linéaire :\")\n",
    "print(f\"Mean Squared Error (MSE)           : {mse_lr}\")\n",
    "print(f\"Root Mean Squared Error (RMSE)     : {rmse_lr}\")\n",
    "print(f\"Mean Absolute Error (MAE)          : {mae_lr}\")\n",
    "print(f\"Mean Absolute Percentage Error (MAPE) : {mape_lr:.2f}%\")\n",
    "print(f\"R² Score                           : {r2_lr}\")\n",
    "print(f\"Adjusted R² Score                  : {adjusted_r2_lr}\")\n",
    "print(f\"Explained Variance Score (EVS)     : {evs_lr}\")\n",
    "print(f\"Max Error                          : {max_err_lr}\")"
   ]
  },
  {
   "cell_type": "markdown",
   "metadata": {},
   "source": [
    "#### Explications des résultats pour Régression Linéaire"
   ]
  },
  {
   "cell_type": "markdown",
   "metadata": {},
   "source": [
    "Évaluation du Modèle de Régression Linéaire  \n",
    "\n",
    "Pour évaluer les performances de notre modèle de régression linéaire, nous avons utilisé plusieurs métriques, dont voici les explications :  \n",
    "\n",
    "<i><u>Mean Squared Error (MSE) :</u></i>  \n",
    "\n",
    "MSE mesure la moyenne des carrés des erreurs, c’est-à-dire la différence moyenne au carré entre les valeurs prédites et les valeurs réelles. Une valeur plus faible indique un modèle avec de meilleures performances.  \n",
    "Ici, le MSE est de 11 759 187 268.58.  \n",
    "Ce nombre représente la somme des carrés des résidus moyens. Bien que cette valeur semble élevée, il faut la comparer avec l'échelle des prix de l'immobilier pour évaluer sa pertinence.  \n",
    "\n",
    "<i><u>Root Mean Squared Error (RMSE) :</u></i>  \n",
    "\n",
    "RMSE est la racine carrée du MSE, ce qui permet d’interpréter cette métrique dans la même unité que la variable cible (buy_price).\n",
    "Le RMSE obtenu est de 108,439.79. Cela signifie que l'écart type moyen des prévisions de notre modèle par rapport aux prix réels est d'environ 108,439 euros. Un RMSE plus faible indique une meilleure précision.  \n",
    "\n",
    "<i><u>Mean Absolute Error (MAE) :</u></i>  \n",
    "\n",
    "MAE mesure l'erreur absolue moyenne entre les valeurs prédites et les valeurs réelles. Elle représente la moyenne des erreurs absolues.\n",
    "Le MAE est de 65,657.97, ce qui signifie que, en moyenne, les prévisions de notre modèle diffèrent des prix réels d'environ 65,658 euros.  \n",
    "\n",
    "<i><u>Mean Absolute Percentage Error (MAPE) :</u></i>  \n",
    "\n",
    "MAPE est un pourcentage qui mesure l'erreur absolue moyenne relative par rapport aux valeurs réelles.\n",
    "Le MAPE est de 19.10%, ce qui signifie que, en moyenne, les prévisions de notre modèle sont à environ 19.10% des prix réels. Un MAPE plus bas est indicatif d’un modèle plus précis.  \n",
    "\n",
    "<i><u>R² Score :</u></i>  \n",
    "\n",
    "R² Score ou coefficient de détermination représente la proportion de la variance dans la variable cible qui est expliquée par le modèle.\n",
    "Ici, le R² est de 0.9065, ce qui signifie que 90.65% de la variance des prix immobiliers est expliquée par les variables sélectionnées dans notre modèle. Cela indique une très bonne qualité d’ajustement du modèle.  \n",
    "\n",
    "<i><u>Adjusted R² Score :</u></i>  \n",
    "\n",
    "R² ajusté est une version modifiée du R² qui tient compte du nombre de variables dans le modèle. Il pénalise les modèles qui incluent trop de variables non significatives.\n",
    "L'Adjusted R² est de 0.9065, très proche du R² classique. Cela indique que les variables incluses dans le modèle sont pertinentes et contribuent de manière significative à expliquer la variance de la variable cible.  \n",
    "\n",
    "<i><u>Explained Variance Score (EVS) :</u></i>  \n",
    "\n",
    "EVS mesure la proportion de variance expliquée par le modèle, similaire au R², mais avec une évaluation légèrement différente des erreurs.\n",
    "Le score EVS est de 0.9066, très proche du R², ce qui confirme que le modèle explique bien la variabilité des données.  \n",
    "\n",
    "<i><u>Max Error :</u></i>  \n",
    "\n",
    "Max Error représente la plus grande erreur absolue observée entre les prédictions du modèle et les valeurs réelles.\n",
    "La valeur du Max Error est de 1,237,042.89. Cela signifie que la plus grande différence entre un prix prédit et un prix réel est d'environ 1,237,042 euros. Bien que la majorité des erreurs soient plus faibles, cela montre que le modèle peut parfois faire des erreurs importantes pour certains biens."
   ]
  },
  {
   "cell_type": "markdown",
   "metadata": {},
   "source": [
    "### Sauvegarde du modèle pour Flask"
   ]
  },
  {
   "cell_type": "code",
   "execution_count": 26,
   "metadata": {},
   "outputs": [],
   "source": [
    "with open('./flask_app/models/linear_regression_model.pkl', 'wb') as file:\n",
    "    pickle.dump(lr, file)"
   ]
  },
  {
   "cell_type": "markdown",
   "metadata": {},
   "source": [
    "#### Forêt aléatoire"
   ]
  },
  {
   "cell_type": "markdown",
   "metadata": {},
   "source": []
  }
 ],
 "metadata": {
  "kernelspec": {
   "display_name": "env",
   "language": "python",
   "name": "python3"
  },
  "language_info": {
   "codemirror_mode": {
    "name": "ipython",
    "version": 3
   },
   "file_extension": ".py",
   "mimetype": "text/x-python",
   "name": "python",
   "nbconvert_exporter": "python",
   "pygments_lexer": "ipython3",
   "version": "3.10.6"
  }
 },
 "nbformat": 4,
 "nbformat_minor": 2
}
